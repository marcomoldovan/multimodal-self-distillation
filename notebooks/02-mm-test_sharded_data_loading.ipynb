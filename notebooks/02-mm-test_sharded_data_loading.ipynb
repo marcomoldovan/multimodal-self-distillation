{
 "cells": [
  {
   "cell_type": "code",
   "execution_count": 1,
   "metadata": {},
   "outputs": [],
   "source": [
    "import torch\n",
    "import numpy as np\n",
    "from typing import Union, List, Dict\n",
    "from transformers import BertTokenizerFast\n",
    "\n",
    "class LibriPreprocessor:\n",
    "  def __init__(self):\n",
    "    self.tokenizer = BertTokenizerFast.from_pretrained('bert-base-uncased')\n",
    "\n",
    "\n",
    "  \n",
    "  \n",
    "  def pad_latent_features(self, latent_features, padding='longest', return_tensors=\"pt\"):\n",
    "    padding_value = 0.0\n",
    "    if padding == 'longest':\n",
    "      longest_latent_feature = max(len(item['latent_features']) for item in latent_features)\n",
    "\n",
    "    padded_features = []\n",
    "    for item in latent_features:\n",
    "      latent_features_as_ndarray = np.array(item['latent_features']).astype(np.float32)\n",
    "      padded_item = np.pad(latent_features_as_ndarray, \n",
    "                           ((0, longest_latent_feature - latent_features_as_ndarray.shape[0]), (0, 0)), \n",
    "                           mode='constant', \n",
    "                           constant_values=padding_value)\n",
    "      if return_tensors == \"pt\":\n",
    "        padded_item = torch.from_numpy(padded_item).to(torch.float32)\n",
    "      padded_features.append(padded_item)\n",
    "      \n",
    "    if return_tensors == \"pt\":\n",
    "      padded_features = torch.stack(padded_features)\n",
    "      \n",
    "    return padded_features\n",
    "\n",
    "\n",
    "  def __call__(\n",
    "    self,\n",
    "    batch: List[Dict[str, Union[List[int], torch.Tensor]]],\n",
    "    ) -> Dict[str, torch.Tensor]:\n",
    "    \"\"\"\n",
    "    Collate function to be used when training with PyTorch Lightning.\n",
    "    Args:\n",
    "        extractor (:class:`~transformers.Wav2Vec2FeatureExtractor`):\n",
    "            The processor used for proccessing the data.\n",
    "        tokenizer (:class:`~transformers.BertTokenizerFast`)\n",
    "            The tokenizer used for proccessing the data.\n",
    "        features (:obj:`List[Dict[str, Union[List[int], torch.Tensor]]]`):\n",
    "            A list of features to be collated.\n",
    "    Returns:\n",
    "        :obj:`Dict[str, torch.Tensor]`: A dictionary of tensors containing the collated features.\n",
    "    \"\"\" \n",
    "    latent_features = [{\"latent_features\": feature[\"latent_features\"]} for feature in batch]\n",
    "    # input_values = [{\"input_values\": feature[\"input_values\"]} for feature in batch]\n",
    "    input_sentences = [{\"input_ids\": feature[\"input_ids\"]} for feature in batch]\n",
    "    \n",
    "    text_batch = self.tokenizer.pad(\n",
    "        input_sentences,\n",
    "        padding='longest',\n",
    "        return_tensors='pt'\n",
    "    )\n",
    "    \n",
    "    speech_batch = self.pad_latent_features(\n",
    "        latent_features,\n",
    "        padding='longest',\n",
    "        return_tensors=\"pt\",\n",
    "    )\n",
    "    \n",
    "    # speech_batch = self.extractor.pad(\n",
    "    #     input_values,\n",
    "    #     padding='longest',\n",
    "    #     return_tensors=\"pt\",\n",
    "    # )\n",
    "    \n",
    "    return speech_batch, text_batch"
   ]
  },
  {
   "cell_type": "code",
   "execution_count": 2,
   "metadata": {},
   "outputs": [],
   "source": [
    "from torch.utils.data import Dataset, DataLoader\n",
    "\n",
    "class LibriSpeechDataset(Dataset):\n",
    "  def __init__(self, libri_dataset):\n",
    "    self.libri_dataset = libri_dataset\n",
    "  \n",
    "  \n",
    "  def __len__(self):\n",
    "    return len(self.libri_dataset)\n",
    "  \n",
    "  \n",
    "  def __getitem__(self, index):\n",
    "    return self.libri_dataset[index]\n",
    "  "
   ]
  },
  {
   "cell_type": "code",
   "execution_count": 4,
   "metadata": {},
   "outputs": [],
   "source": [
    "import os\n",
    "from datasets import concatenate_datasets, load_from_disk\n",
    "\n",
    "rootdir = 'E:/Machine Learning/Datasets/librispeech/'\n",
    "\n",
    "loaded_single_shard = load_from_disk('E:/Machine Learning/Datasets/librispeech/0')\n"
   ]
  },
  {
   "cell_type": "code",
   "execution_count": 5,
   "metadata": {},
   "outputs": [],
   "source": [
    "import os\n",
    "from datasets import concatenate_datasets, load_from_disk\n",
    "\n",
    "libri_shards_path = 'E:/Machine Learning/Datasets/librispeech/' # '../data/libri_small_shards'\n",
    "libri_shards_list = []\n",
    "for i in range(len(next(os.walk(libri_shards_path))[1])):\n",
    "    loaded_libri_shard = load_from_disk(f\"{libri_shards_path}/{i}/\")\n",
    "    libri_shards_list.append(loaded_libri_shard)\n",
    "\n",
    "libri_reconstructed = concatenate_datasets(libri_shards_list)"
   ]
  },
  {
   "cell_type": "code",
   "execution_count": 6,
   "metadata": {},
   "outputs": [
    {
     "name": "stdout",
     "output_type": "stream",
     "text": [
      "0\n"
     ]
    }
   ],
   "source": [
    "for i in range(1):\n",
    "    print(i)"
   ]
  },
  {
   "cell_type": "code",
   "execution_count": 7,
   "metadata": {},
   "outputs": [
    {
     "data": {
      "text/plain": [
       "dict_keys(['attention_mask_text', 'input_ids', 'input_values', 'latent_features', 'sampling_rate', 'speech', 'token_type_ids_text'])"
      ]
     },
     "execution_count": 7,
     "metadata": {},
     "output_type": "execute_result"
    }
   ],
   "source": [
    "libri_reconstructed[0].keys()"
   ]
  },
  {
   "cell_type": "code",
   "execution_count": null,
   "metadata": {},
   "outputs": [],
   "source": [
    "preprocessor = LibriPreprocessor()\n",
    "libri_dataset = LibriSpeechDataset(libri_reconstructed)\n",
    "libri_dataloader = DataLoader(libri_dataset, batch_size=8, collate_fn=preprocessor)"
   ]
  },
  {
   "cell_type": "code",
   "execution_count": null,
   "metadata": {},
   "outputs": [],
   "source": [
    "from transformers import Wav2Vec2Model\n",
    "\n",
    "wav2vec2 = Wav2Vec2Model.from_pretrained('facebook/wav2vec2-base')\n",
    "feature_projection = wav2vec2.feature_projection\n",
    "encoder = wav2vec2.encoder"
   ]
  },
  {
   "cell_type": "code",
   "execution_count": null,
   "metadata": {},
   "outputs": [],
   "source": [
    "device = torch.device('cuda' if torch.cuda.is_available() else 'cpu')\n",
    "feature_projection.to(device)\n",
    "encoder.to(device)\n",
    "\n",
    "for batch in libri_dataloader:\n",
    "  inputs = batch[0].to(device)\n",
    "  outputs = feature_projection(inputs)\n",
    "  outputs = encoder(outputs[0])\n",
    "  pooled_output = torch.mean(outputs['last_hidden_state'], dim=1)\n",
    "  print(pooled_output.size())"
   ]
  }
 ],
 "metadata": {
  "interpreter": {
   "hash": "b2beefd3eff767b677397e49c617fe9eb55de17b3640af7353d98162718fbf92"
  },
  "kernelspec": {
   "display_name": "Python 3.9.5 64-bit ('speech-segment-retrieval': venv)",
   "language": "python",
   "name": "python3"
  },
  "language_info": {
   "codemirror_mode": {
    "name": "ipython",
    "version": 3
   },
   "file_extension": ".py",
   "mimetype": "text/x-python",
   "name": "python",
   "nbconvert_exporter": "python",
   "pygments_lexer": "ipython3",
   "version": "3.9.5"
  },
  "orig_nbformat": 4
 },
 "nbformat": 4,
 "nbformat_minor": 2
}
