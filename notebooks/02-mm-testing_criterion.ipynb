{
 "cells": [
  {
   "cell_type": "code",
   "execution_count": null,
   "metadata": {},
   "outputs": [],
   "source": [
    "import torch\n",
    "from transformers import PerceiverForMultimodalAutoencoding"
   ]
  },
  {
   "cell_type": "code",
   "execution_count": null,
   "metadata": {},
   "outputs": [],
   "source": [
    "model = PerceiverForMultimodalAutoencoding.from_pretrained(\"deepmind/multimodal-perceiver\")"
   ]
  },
  {
   "cell_type": "code",
   "execution_count": null,
   "metadata": {},
   "outputs": [],
   "source": [
    "y = outputs.hidden_states"
   ]
  },
  {
   "cell_type": "code",
   "execution_count": null,
   "metadata": {},
   "outputs": [],
   "source": [
    "regression_head = torch.nn.Sequential(\n",
    "    torch.nn.Linear(model.config.d_latents, model.config.d_latents * 2), \n",
    "    torch.nn.GELU(), \n",
    "    torch.nn.Linear(model.config.d_latents * 2, model.config.d_latents)\n",
    "    )"
   ]
  },
  {
   "cell_type": "code",
   "execution_count": null,
   "metadata": {},
   "outputs": [],
   "source": [
    "# https://www.baeldung.com/cs/instance-vs-batch-normalization\n",
    "\n",
    "\n",
    "with torch.no_grad():\n",
    "    y = y[-5:]  # take the last k transformer layers\n",
    "    # Follow the same layer normalization procedure for text and vision\n",
    "    y = [torch.layer_norm(tl.float(), tl.shape[-1:]) for tl in y]\n",
    "    y = sum(y) / len(y)\n",
    "    if True: # noralize targets\n",
    "        y = torch.layer_norm(y.float(), y.shape[-1:])\n",
    "\n",
    "    # # # Use instance normalization for audio\n",
    "    # y = [torch.nn.functional.instance_norm(tl.float()) for tl in y]\n",
    "    # y = sum(y) / len(y)\n",
    "    # if True: # normalize targets\n",
    "    #     y = torch.nn.functional.instance_norm(y.transpose(1, 2)).transpose(1, 2)\n",
    "\n",
    "print(outputs.hidden_states[-1:][0].size())\n",
    "x = regression_head(outputs.hidden_states[-1:][0])\n",
    "print(x.size())\n",
    "print(y.size())"
   ]
  },
  {
   "cell_type": "code",
   "execution_count": null,
   "metadata": {},
   "outputs": [],
   "source": [
    "l1 = torch.nn.SmoothL1Loss()\n",
    "mse = torch.nn.MSELoss()"
   ]
  },
  {
   "cell_type": "code",
   "execution_count": null,
   "metadata": {},
   "outputs": [],
   "source": [
    "l1(x, y)"
   ]
  },
  {
   "cell_type": "code",
   "execution_count": null,
   "metadata": {},
   "outputs": [],
   "source": [
    "mse(x, y)"
   ]
  }
 ],
 "metadata": {
  "language_info": {
   "name": "python"
  },
  "orig_nbformat": 4
 },
 "nbformat": 4,
 "nbformat_minor": 2
}
