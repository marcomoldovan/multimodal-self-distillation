{
 "cells": [
  {
   "cell_type": "code",
   "execution_count": 4,
   "metadata": {},
   "outputs": [],
   "source": [
    "from transformers import HubertPreTrainedModel, BertPreTrainedModel, BertModel, BertTokenizerFast\n",
    "from transformers.models.hubert.modeling_hubert import HubertFeatureEncoder\n",
    "from transformers.models.bert.modeling_bert import BertPooler"
   ]
  },
  {
   "cell_type": "code",
   "execution_count": null,
   "metadata": {},
   "outputs": [],
   "source": [
    "class Hubert(HubertPreTrainedModel):\n",
    "    def __init__(self, config):\n",
    "        super().__init__(config)\n",
    "        \n",
    "        self.feature_projection = HubertFeatureEncoder(config)\n",
    "        # self.feature_projection = HubertFeatureProjection(config)\n",
    "        # self.encoder = HubertEncoder(config)\n",
    "        \n",
    "        self.post_init()\n",
    "        \n",
    "    def forward(\n",
    "        self,\n",
    "        input_values,\n",
    "        attention_mask = None,\n",
    "        mask_time_indices = None,\n",
    "        output_attentions = None,\n",
    "        output_hidden_states = None,\n",
    "        return_dict = None,\n",
    "    ):\n",
    "        output_attentions = output_attentions if output_attentions is not None else self.config.output_attentions\n",
    "        output_hidden_states = (\n",
    "            output_hidden_states if output_hidden_states is not None else self.config.output_hidden_states\n",
    "        )\n",
    "        return_dict = return_dict if return_dict is not None else self.config.use_return_dict\n",
    "\n",
    "        extract_features = self.feature_extractor(input_values)\n",
    "        extract_features = extract_features.transpose(1, 2)\n",
    "\n",
    "        if attention_mask is not None:\n",
    "            # compute reduced attention_mask corresponding to feature vectors\n",
    "            attention_mask = self._get_feature_vector_attention_mask(extract_features.shape[1], attention_mask)\n",
    "\n",
    "        hidden_states = self.feature_projection(extract_features)\n",
    "        hidden_states = self._mask_hidden_states(hidden_states, mask_time_indices=mask_time_indices)\n",
    "\n",
    "        encoder_outputs = self.encoder(\n",
    "            hidden_states,\n",
    "            attention_mask=attention_mask,\n",
    "            output_attentions=output_attentions,\n",
    "            output_hidden_states=output_hidden_states,\n",
    "            return_dict=return_dict,\n",
    "        )\n",
    "\n",
    "        hidden_states = encoder_outputs[0]\n",
    "\n",
    "        if not return_dict:\n",
    "            return (hidden_states,) + encoder_outputs[1:]"
   ]
  },
  {
   "cell_type": "code",
   "execution_count": null,
   "metadata": {},
   "outputs": [],
   "source": [
    "projector = Hubert.from_pretrained('ntu-spml/distilhubert')"
   ]
  },
  {
   "cell_type": "code",
   "execution_count": null,
   "metadata": {},
   "outputs": [],
   "source": [
    "class Pooler(BertPreTrainedModel):\n",
    "    def __init__(self, config):\n",
    "        super().__init__(config)\n",
    "        \n",
    "        self.pooler = BertPooler(config)\n",
    "        \n",
    "        self.post_init()\n",
    "        \n",
    "    def forward(self, hidden_states):\n",
    "        return self.pooler(hidden_states)"
   ]
  },
  {
   "cell_type": "code",
   "execution_count": null,
   "metadata": {},
   "outputs": [],
   "source": [
    "pooler = Pooler.from_pretrained('google/bert_uncased_L-2_H-128_A-2')"
   ]
  },
  {
   "cell_type": "code",
   "execution_count": 2,
   "metadata": {},
   "outputs": [
    {
     "name": "stderr",
     "output_type": "stream",
     "text": [
      "Some weights of the model checkpoint at google/bert_uncased_L-2_H-128_A-2 were not used when initializing BertModel: ['cls.predictions.transform.LayerNorm.weight', 'cls.seq_relationship.bias', 'cls.predictions.decoder.weight', 'cls.predictions.decoder.bias', 'cls.predictions.transform.dense.bias', 'cls.predictions.transform.dense.weight', 'cls.predictions.transform.LayerNorm.bias', 'cls.predictions.bias', 'cls.seq_relationship.weight']\n",
      "- This IS expected if you are initializing BertModel from the checkpoint of a model trained on another task or with another architecture (e.g. initializing a BertForSequenceClassification model from a BertForPreTraining model).\n",
      "- This IS NOT expected if you are initializing BertModel from the checkpoint of a model that you expect to be exactly identical (initializing a BertForSequenceClassification model from a BertForSequenceClassification model).\n"
     ]
    }
   ],
   "source": [
    "bert = BertModel.from_pretrained('google/bert_uncased_L-2_H-128_A-2')"
   ]
  },
  {
   "cell_type": "code",
   "execution_count": 5,
   "metadata": {},
   "outputs": [
    {
     "name": "stderr",
     "output_type": "stream",
     "text": [
      "Downloading: 100%|██████████| 226k/226k [00:00<00:00, 530kB/s] \n"
     ]
    }
   ],
   "source": [
    "tokenizer = BertTokenizerFast.from_pretrained('google/bert_uncased_L-2_H-128_A-2')"
   ]
  },
  {
   "cell_type": "code",
   "execution_count": 7,
   "metadata": {},
   "outputs": [],
   "source": [
    "input_sentences = ['Hello, my dog is cute', 'Hello, my cat is cute']\n",
    "bert_inputs = tokenizer(input_sentences, return_tensors='pt', max_length=32, padding=True, truncation=True)"
   ]
  },
  {
   "cell_type": "code",
   "execution_count": 9,
   "metadata": {},
   "outputs": [],
   "source": [
    "bert_outputs = bert(input_ids=bert_inputs['input_ids'], attention_mask=bert_inputs['attention_mask'])"
   ]
  },
  {
   "cell_type": "code",
   "execution_count": 10,
   "metadata": {},
   "outputs": [
    {
     "data": {
      "text/plain": [
       "tensor([[-1.0000,  0.0892, -0.9985,  0.9933, -0.9971,  0.7333, -0.9910, -0.8469,\n",
       "          0.1403,  0.0398, -0.8121, -0.0226,  0.0342,  1.0000, -0.9129, -0.9487,\n",
       "          0.9855,  0.0497, -0.8708,  0.9946,  0.8608,  0.0083,  0.9935,  0.9515,\n",
       "         -1.0000, -0.0410, -0.9992,  0.9980,  0.9575,  0.1021,  0.0238,  0.0349,\n",
       "         -0.9980, -0.2489,  0.9964,  0.9999, -0.8173, -0.0254, -0.0439, -0.9991,\n",
       "          0.6942,  0.9822, -0.9986,  0.9773, -0.9999, -0.1172, -0.9998,  0.9988,\n",
       "          0.9638,  0.9644,  0.8946, -0.9722,  0.0033,  0.9984,  0.9992,  0.9988,\n",
       "         -0.9886, -0.8332,  0.3115,  0.2848, -0.0775,  0.0205,  0.6193,  0.9451,\n",
       "         -0.4717, -1.0000,  0.3441,  0.2672,  0.9515,  0.6369,  0.9973, -0.0476,\n",
       "         -0.9995,  0.0554,  0.5178, -0.9134, -0.1682,  0.1212, -0.9867,  0.0607,\n",
       "         -0.2665, -0.0724, -0.9712, -0.9999,  0.9994, -0.9696,  0.5107,  0.3095,\n",
       "         -0.3189,  0.8223, -0.6053,  0.9965, -0.9219,  0.9995,  0.7309,  0.6107,\n",
       "         -0.9807, -0.8179, -0.9988, -0.9891, -0.9983,  0.9637, -0.9983, -0.9925,\n",
       "         -0.9829, -0.4606, -0.9939, -0.9781, -0.9357,  0.9980,  0.9985,  0.9583,\n",
       "         -0.7230,  0.9996, -1.0000,  0.0913,  0.7525,  0.9630,  0.1776, -0.9124,\n",
       "          0.1595, -0.9999, -0.5442,  0.9365, -0.9983,  0.9777,  0.9622,  0.9977],\n",
       "        [-1.0000,  0.0670, -0.9990,  0.9898, -0.9983,  0.6127, -0.9941, -0.8924,\n",
       "          0.1689,  0.0075, -0.7787, -0.0541,  0.0580,  1.0000, -0.9236, -0.9571,\n",
       "          0.9722,  0.0842, -0.8982,  0.9928,  0.9198, -0.0276,  0.9939,  0.9341,\n",
       "         -1.0000, -0.0324, -0.9997,  0.9974,  0.9521,  0.0631, -0.0058,  0.0444,\n",
       "         -0.9958,  0.0233,  0.9897,  0.9999, -0.8380, -0.0367,  0.0948, -0.9991,\n",
       "          0.8295,  0.9865, -0.9981,  0.9838, -1.0000, -0.1020, -0.9997,  0.9992,\n",
       "          0.9792,  0.9874,  0.9259, -0.9787, -0.0673,  0.9980,  0.9990,  0.9995,\n",
       "         -0.9925, -0.8826,  0.2431,  0.4655, -0.0762,  0.1822,  0.3919,  0.9659,\n",
       "         -0.6700, -1.0000,  0.1164,  0.3504,  0.9608,  0.7956,  0.9992, -0.0375,\n",
       "         -0.9997,  0.0490,  0.6275, -0.9652, -0.4231,  0.1190, -0.9935,  0.0596,\n",
       "         -0.1653, -0.0941, -0.9442, -1.0000,  0.9997, -0.9753,  0.3355,  0.3680,\n",
       "          0.0538,  0.8436, -0.8018,  0.9962, -0.9731,  0.9996,  0.5833,  0.6006,\n",
       "         -0.9870, -0.6933, -0.9991, -0.9778, -0.9981,  0.9678, -0.9988, -0.9946,\n",
       "         -0.9772, -0.5464, -0.9976, -0.9893, -0.8891,  0.9984,  0.9990,  0.9294,\n",
       "         -0.8060,  0.9997, -1.0000,  0.0333,  0.6540,  0.9734,  0.1896, -0.9248,\n",
       "          0.1046, -1.0000, -0.5891,  0.9546, -0.9987,  0.9706,  0.9647,  0.9983]],\n",
       "       grad_fn=<TanhBackward0>)"
      ]
     },
     "execution_count": 10,
     "metadata": {},
     "output_type": "execute_result"
    }
   ],
   "source": [
    "bert_outputs.pooler_output"
   ]
  },
  {
   "cell_type": "code",
   "execution_count": null,
   "metadata": {},
   "outputs": [],
   "source": []
  }
 ],
 "metadata": {
  "interpreter": {
   "hash": "b2beefd3eff767b677397e49c617fe9eb55de17b3640af7353d98162718fbf92"
  },
  "kernelspec": {
   "display_name": "Python 3.9.5 64-bit ('speech-segment-retrieval': venv)",
   "language": "python",
   "name": "python3"
  },
  "language_info": {
   "codemirror_mode": {
    "name": "ipython",
    "version": 3
   },
   "file_extension": ".py",
   "mimetype": "text/x-python",
   "name": "python",
   "nbconvert_exporter": "python",
   "pygments_lexer": "ipython3",
   "version": "3.9.5"
  },
  "orig_nbformat": 4
 },
 "nbformat": 4,
 "nbformat_minor": 2
}
