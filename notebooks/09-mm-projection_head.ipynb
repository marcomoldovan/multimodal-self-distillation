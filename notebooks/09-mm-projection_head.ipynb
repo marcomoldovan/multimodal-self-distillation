{
 "cells": [
  {
   "cell_type": "code",
   "execution_count": 2,
   "metadata": {},
   "outputs": [
    {
     "name": "stderr",
     "output_type": "stream",
     "text": [
      "c:\\Users\\marco\\.venv\\multimodal-ssl\\lib\\site-packages\\tqdm\\auto.py:22: TqdmWarning: IProgress not found. Please update jupyter and ipywidgets. See https://ipywidgets.readthedocs.io/en/stable/user_install.html\n",
      "  from .autonotebook import tqdm as notebook_tqdm\n"
     ]
    }
   ],
   "source": [
    "import torch\n",
    "from torch import nn"
   ]
  },
  {
   "cell_type": "code",
   "execution_count": 5,
   "metadata": {},
   "outputs": [],
   "source": [
    "def MLP(dim, projection_size, widening_factor=4):\n",
    "    \n",
    "    hidden_size = dim * widening_factor\n",
    "    \n",
    "    return nn.Sequential(\n",
    "        nn.Linear(dim, hidden_size),\n",
    "        nn.BatchNorm1d(hidden_size),\n",
    "        nn.ReLU(inplace=True),\n",
    "        nn.Linear(hidden_size, projection_size)\n",
    "    )\n",
    "\n",
    "def SimSiamMLP(dim, projection_size, widening_factor=4):\n",
    "    \n",
    "    hidden_size = dim * widening_factor\n",
    "    \n",
    "    return nn.Sequential(\n",
    "        nn.Linear(dim, hidden_size, bias=False),\n",
    "        nn.BatchNorm1d(hidden_size),\n",
    "        nn.ReLU(inplace=True),\n",
    "        nn.Linear(hidden_size, hidden_size, bias=False),\n",
    "        nn.BatchNorm1d(hidden_size),\n",
    "        nn.ReLU(inplace=True),\n",
    "        nn.Linear(hidden_size, projection_size, bias=False),\n",
    "        nn.BatchNorm1d(projection_size, affine=False)\n",
    "    )"
   ]
  },
  {
   "cell_type": "code",
   "execution_count": 6,
   "metadata": {},
   "outputs": [
    {
     "name": "stdout",
     "output_type": "stream",
     "text": [
      "torch.Size([20, 128])\n",
      "torch.Size([20, 128])\n"
     ]
    }
   ],
   "source": [
    "input = torch.randn(20, 128)\n",
    "\n",
    "mlp = MLP(128, 128)\n",
    "simsiam = SimSiamMLP(128, 128)\n",
    "\n",
    "out_mlp = mlp(input)\n",
    "print(out_mlp.shape)\n",
    "out_sim = simsiam(input)\n",
    "print(out_sim.shape)"
   ]
  },
  {
   "cell_type": "code",
   "execution_count": 19,
   "metadata": {},
   "outputs": [],
   "source": [
    "def mean_of_last_hidden_states_1(\n",
    "    last_hidden_state: torch.Tensor = None,\n",
    "    ) -> torch.Tensor:\n",
    "    \n",
    "    batch_size, sequence_length, _ = last_hidden_state.size()\n",
    "    attention_mask = torch.ones(batch_size, sequence_length)\n",
    "    \n",
    "    output_vectors = []\n",
    "    \n",
    "    input_mask_expanded = attention_mask.unsqueeze(-1).expand(\n",
    "        last_hidden_state.size()).float().to(last_hidden_state.device\n",
    "    )\n",
    "    sum_embeddings = torch.sum(last_hidden_state * input_mask_expanded, 1)\n",
    "    \n",
    "    sum_mask = input_mask_expanded.sum(1)\n",
    "    sum_mask = torch.clamp(sum_mask, min=1e-9)\n",
    "    \n",
    "    output_vectors.append(sum_embeddings / sum_mask)\n",
    "    output_vector = torch.cat(output_vectors, 0)\n",
    "    \n",
    "    return output_vector\n",
    "\n",
    "def mean_of_last_hidden_states_2(\n",
    "    last_hidden_state: torch.Tensor = None,\n",
    "    ) -> torch.Tensor:\n",
    "    \n",
    "    x = [torch.layer_norm(tl.float(), tl.shape[-1:]) for tl in last_hidden_state]\n",
    "    x = sum(x) / len(x)\n",
    "    x = torch.layer_norm(x.float(), x.shape[-1:])\n",
    "    \n",
    "    return x"
   ]
  },
  {
   "cell_type": "code",
   "execution_count": 20,
   "metadata": {},
   "outputs": [
    {
     "name": "stdout",
     "output_type": "stream",
     "text": [
      "1\n"
     ]
    },
    {
     "ename": "ValueError",
     "evalue": "too many values to unpack (expected 3)",
     "output_type": "error",
     "traceback": [
      "\u001b[1;31m---------------------------------------------------------------------------\u001b[0m",
      "\u001b[1;31mValueError\u001b[0m                                Traceback (most recent call last)",
      "Cell \u001b[1;32mIn [20], line 6\u001b[0m\n\u001b[0;32m      2\u001b[0m y \u001b[39m=\u001b[39m [torch\u001b[39m.\u001b[39mrandn(\u001b[39m8\u001b[39m, \u001b[39m20\u001b[39m, \u001b[39m42\u001b[39m, \u001b[39m128\u001b[39m)] \u001b[39m# batch_size, sequence_length, hidden_size\u001b[39;00m\n\u001b[0;32m      4\u001b[0m \u001b[39mprint\u001b[39m(\u001b[39mlen\u001b[39m(y))\n\u001b[1;32m----> 6\u001b[0m x_1 \u001b[39m=\u001b[39m mean_of_last_hidden_states_1(x)\n\u001b[0;32m      7\u001b[0m \u001b[39m# y_1 = mean_of_last_hidden_states_1(y)\u001b[39;00m\n\u001b[0;32m      9\u001b[0m x_2 \u001b[39m=\u001b[39m mean_of_last_hidden_states_2(x)\n",
      "Cell \u001b[1;32mIn [19], line 5\u001b[0m, in \u001b[0;36mmean_of_last_hidden_states_1\u001b[1;34m(last_hidden_state)\u001b[0m\n\u001b[0;32m      1\u001b[0m \u001b[39mdef\u001b[39;00m \u001b[39mmean_of_last_hidden_states_1\u001b[39m(\n\u001b[0;32m      2\u001b[0m     last_hidden_state: torch\u001b[39m.\u001b[39mTensor \u001b[39m=\u001b[39m \u001b[39mNone\u001b[39;00m,\n\u001b[0;32m      3\u001b[0m     ) \u001b[39m-\u001b[39m\u001b[39m>\u001b[39m torch\u001b[39m.\u001b[39mTensor:\n\u001b[1;32m----> 5\u001b[0m     batch_size, sequence_length, _ \u001b[39m=\u001b[39m last_hidden_state\u001b[39m.\u001b[39msize()\n\u001b[0;32m      6\u001b[0m     attention_mask \u001b[39m=\u001b[39m torch\u001b[39m.\u001b[39mones(batch_size, sequence_length)\n\u001b[0;32m      8\u001b[0m     output_vectors \u001b[39m=\u001b[39m []\n",
      "\u001b[1;31mValueError\u001b[0m: too many values to unpack (expected 3)"
     ]
    }
   ],
   "source": [
    "x = torch.randn(8, 20, 42, 128) # batch_size, sequence_length, hidden_size\n",
    "y = [torch.randn(8, 20, 42, 128)] # batch_size, sequence_length, hidden_size\n",
    "\n",
    "print(len(y))\n",
    "\n",
    "x_1 = mean_of_last_hidden_states_1(x)\n",
    "# y_1 = mean_of_last_hidden_states_1(y)\n",
    "\n",
    "x_2 = mean_of_last_hidden_states_2(x)\n",
    "y_2 = mean_of_last_hidden_states_2(y)\n",
    "\n",
    "print(\"Outputs of mean pooling from projector head\")\n",
    "print(x_1.shape)\n",
    "# print(y_1.shape)\n",
    "\n",
    "print(\"\\nOutputs of aggregation from from loss function\")\n",
    "print(x_2.shape)\n",
    "print(y_2.shape)\n",
    "\n",
    "loss_fn = nn.SmoothL1Loss(reduction='mean', beta=1.0)\n",
    "\n",
    "# loss_1 = loss_fn(x_1, y_2)\n",
    "loss_2 = loss_fn(x_2, y_2)\n",
    "\n",
    "# print(\"\\nLosses of mean pooling from projector head: \", loss_1)\n",
    "print(\"Losses of aggregation from from loss function: \", loss_2)"
   ]
  },
  {
   "cell_type": "code",
   "execution_count": null,
   "metadata": {},
   "outputs": [],
   "source": []
  }
 ],
 "metadata": {
  "kernelspec": {
   "display_name": "multimodal-ssl",
   "language": "python",
   "name": "python3"
  },
  "language_info": {
   "codemirror_mode": {
    "name": "ipython",
    "version": 3
   },
   "file_extension": ".py",
   "mimetype": "text/x-python",
   "name": "python",
   "nbconvert_exporter": "python",
   "pygments_lexer": "ipython3",
   "version": "3.9.5"
  },
  "orig_nbformat": 4,
  "vscode": {
   "interpreter": {
    "hash": "6ac8a2bc69d4b2bdc42aaccd63f192d886c476dacd93adfa548f17911c905576"
   }
  }
 },
 "nbformat": 4,
 "nbformat_minor": 2
}
