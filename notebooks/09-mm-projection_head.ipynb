{
 "cells": [
  {
   "cell_type": "code",
   "execution_count": 14,
   "metadata": {},
   "outputs": [],
   "source": [
    "import torch\n",
    "from torch import nn\n",
    "from torch.nn import functional as F"
   ]
  },
  {
   "cell_type": "code",
   "execution_count": 9,
   "metadata": {},
   "outputs": [],
   "source": [
    "def MLP(dim, projection_size, widening_factor=4):\n",
    "    \n",
    "    hidden_size = dim * widening_factor\n",
    "    \n",
    "    return nn.Sequential(\n",
    "        nn.Linear(dim, hidden_size),\n",
    "        nn.BatchNorm1d(hidden_size),\n",
    "        nn.ReLU(inplace=True),\n",
    "        nn.Linear(hidden_size, projection_size)\n",
    "    )\n",
    "\n",
    "def SimSiamMLP(dim, projection_size, widening_factor=4):\n",
    "    \n",
    "    hidden_size = dim * widening_factor\n",
    "    \n",
    "    return nn.Sequential(\n",
    "        nn.Linear(dim, hidden_size, bias=False),\n",
    "        nn.BatchNorm1d(hidden_size),\n",
    "        nn.ReLU(inplace=True),\n",
    "        nn.Linear(hidden_size, hidden_size, bias=False),\n",
    "        nn.BatchNorm1d(hidden_size),\n",
    "        nn.ReLU(inplace=True),\n",
    "        nn.Linear(hidden_size, projection_size, bias=False),\n",
    "        nn.BatchNorm1d(projection_size, affine=False)\n",
    "    )"
   ]
  },
  {
   "cell_type": "code",
   "execution_count": 26,
   "metadata": {},
   "outputs": [],
   "source": [
    "def old_aggregator_in_criterion(\n",
    "    last_hidden_state: torch.Tensor = None,\n",
    "    ) -> torch.Tensor:\n",
    "    #! bad function, don't use\n",
    "    \n",
    "    batch_size, sequence_length, _ = last_hidden_state.size()\n",
    "    attention_mask = torch.ones(batch_size, sequence_length)\n",
    "    \n",
    "    output_vectors = []\n",
    "    \n",
    "    input_mask_expanded = attention_mask.unsqueeze(-1).expand(\n",
    "        last_hidden_state.size()).float().to(last_hidden_state.device\n",
    "    )\n",
    "    sum_embeddings = torch.sum(last_hidden_state * input_mask_expanded, 1)\n",
    "    \n",
    "    sum_mask = input_mask_expanded.sum(1)\n",
    "    sum_mask = torch.clamp(sum_mask, min=1e-9)\n",
    "    \n",
    "    output_vectors.append(sum_embeddings / sum_mask)\n",
    "    output_vector = torch.cat(output_vectors, 0)\n",
    "    \n",
    "    return output_vector\n",
    "\n",
    "def aggregate_across_seq_len(\n",
    "    last_hidden_state: torch.Tensor = None,\n",
    "    ) -> torch.Tensor:\n",
    "    \n",
    "    x = [torch.layer_norm(tl.float(), tl.shape[-1:]) for tl in last_hidden_state]\n",
    "    x = sum(x) / len(x)\n",
    "    x = torch.layer_norm(x.float(), x.shape[-1:])\n",
    "    \n",
    "    return x"
   ]
  },
  {
   "cell_type": "code",
   "execution_count": 27,
   "metadata": {},
   "outputs": [
    {
     "name": "stdout",
     "output_type": "stream",
     "text": [
      "torch.Size([64, 128])\n",
      "torch.Size([64, 128])\n"
     ]
    }
   ],
   "source": [
    "input = torch.randn(20, 64, 128)\n",
    "\n",
    "input = aggregate_across_seq_len(input)\n",
    "\n",
    "mlp = MLP(128, 128)\n",
    "simsiam = SimSiamMLP(128, 128)\n",
    "\n",
    "out_mlp = mlp(input)\n",
    "print(out_mlp.shape)\n",
    "out_sim = simsiam(input)\n",
    "print(out_sim.shape)"
   ]
  },
  {
   "cell_type": "code",
   "execution_count": null,
   "metadata": {},
   "outputs": [],
   "source": []
  }
 ],
 "metadata": {
  "kernelspec": {
   "display_name": "multimodal-ssl",
   "language": "python",
   "name": "python3"
  },
  "language_info": {
   "codemirror_mode": {
    "name": "ipython",
    "version": 3
   },
   "file_extension": ".py",
   "mimetype": "text/x-python",
   "name": "python",
   "nbconvert_exporter": "python",
   "pygments_lexer": "ipython3",
   "version": "3.9.5"
  },
  "orig_nbformat": 4,
  "vscode": {
   "interpreter": {
    "hash": "6ac8a2bc69d4b2bdc42aaccd63f192d886c476dacd93adfa548f17911c905576"
   }
  }
 },
 "nbformat": 4,
 "nbformat_minor": 2
}
