{
 "cells": [
  {
   "cell_type": "code",
   "execution_count": 1,
   "metadata": {},
   "outputs": [],
   "source": [
    "import torch\n",
    "from transformers import HubertModel, BertModel"
   ]
  },
  {
   "cell_type": "code",
   "execution_count": 2,
   "metadata": {},
   "outputs": [],
   "source": [
    "distillhubert = HubertModel.from_pretrained('ntu-spml/distilhubert') # or this: patrickvonplaten/distilhubert-timit"
   ]
  },
  {
   "cell_type": "code",
   "execution_count": 4,
   "metadata": {},
   "outputs": [
    {
     "name": "stderr",
     "output_type": "stream",
     "text": [
      "Downloading: 100%|██████████| 383/383 [00:00<00:00, 96.0kB/s]\n",
      "Downloading: 100%|██████████| 159M/159M [00:21<00:00, 7.90MB/s] \n",
      "Some weights of the model checkpoint at google/bert_uncased_L-8_H-512_A-8 were not used when initializing BertModel: ['cls.predictions.transform.dense.weight', 'cls.predictions.transform.LayerNorm.bias', 'cls.predictions.decoder.bias', 'cls.predictions.transform.dense.bias', 'cls.seq_relationship.bias', 'cls.predictions.decoder.weight', 'cls.seq_relationship.weight', 'cls.predictions.bias', 'cls.predictions.transform.LayerNorm.weight']\n",
      "- This IS expected if you are initializing BertModel from the checkpoint of a model trained on another task or with another architecture (e.g. initializing a BertForSequenceClassification model from a BertForPreTraining model).\n",
      "- This IS NOT expected if you are initializing BertModel from the checkpoint of a model that you expect to be exactly identical (initializing a BertForSequenceClassification model from a BertForSequenceClassification model).\n"
     ]
    }
   ],
   "source": [
    "bert = BertModel.from_pretrained('google/bert_uncased_L-8_H-512_A-8')"
   ]
  },
  {
   "cell_type": "code",
   "execution_count": 5,
   "metadata": {},
   "outputs": [
    {
     "data": {
      "text/plain": [
       "{'requires_grad': 41.373184, 'does_not_require_grad': 0.0}"
      ]
     },
     "execution_count": 5,
     "metadata": {},
     "output_type": "execute_result"
    }
   ],
   "source": [
    "count_parameters = lambda model : {'requires_grad':sum(p.numel() for p in model.parameters() if p.requires_grad)/1e6,\n",
    "                                   'does_not_require_grad':sum(p.numel() for p in model.parameters() if not p.requires_grad)/1e6}\n",
    "\n",
    "count_parameters(bert)"
   ]
  },
  {
   "cell_type": "code",
   "execution_count": 4,
   "metadata": {},
   "outputs": [],
   "source": [
    "projector = distillhubert.feature_projection\n",
    "encoder = distillhubert.encoder"
   ]
  },
  {
   "cell_type": "code",
   "execution_count": 21,
   "metadata": {},
   "outputs": [
    {
     "data": {
      "text/plain": [
       "{'requires_grad': 18.896768, 'does_not_require_grad': 0.0}"
      ]
     },
     "execution_count": 21,
     "metadata": {},
     "output_type": "execute_result"
    }
   ],
   "source": [
    "count_parameters(encoder)"
   ]
  },
  {
   "cell_type": "code",
   "execution_count": 6,
   "metadata": {},
   "outputs": [
    {
     "name": "stdout",
     "output_type": "stream",
     "text": [
      "torch.Size([16, 128, 768])\n"
     ]
    }
   ],
   "source": [
    "# device = torch.device('cuda' if torch.cuda.is_available() else 'cpu')\n",
    "\n",
    "input = torch.randn((16, 128, 512)) #, device=device)\n",
    "\n",
    "# projector.to(device)\n",
    "# encoder.to(device)\n",
    "\n",
    "with torch.no_grad():\n",
    "    outputs = projector(input)\n",
    "    outputs = encoder(outputs)\n",
    "\n",
    "print(outputs.last_hidden_state.size())"
   ]
  },
  {
   "cell_type": "code",
   "execution_count": 8,
   "metadata": {},
   "outputs": [
    {
     "name": "stdout",
     "output_type": "stream",
     "text": [
      "tensor([[[ 3.5730e-01,  6.8287e-02, -6.5710e-02,  ...,  3.1320e-01,\n",
      "           2.7473e-01, -4.0593e-01],\n",
      "         [ 5.9186e-01,  7.4721e-02, -1.1976e-01,  ...,  1.5153e-01,\n",
      "           4.7239e-01,  8.6874e-01],\n",
      "         [ 3.4321e-01, -2.4234e-01, -8.3484e-02,  ...,  2.9233e-02,\n",
      "           2.7845e-01, -5.6123e-01],\n",
      "         ...,\n",
      "         [ 4.5318e-01, -1.3775e-01, -4.3091e-01,  ...,  4.5748e-02,\n",
      "           1.9874e-01, -4.8692e-01],\n",
      "         [ 2.3670e-01,  1.3775e-01, -2.8171e-02,  ...,  2.7102e-01,\n",
      "           2.6036e-01, -6.8628e-02],\n",
      "         [ 4.1774e-01, -9.2515e-02,  1.3279e-01,  ...,  3.2909e-01,\n",
      "           2.2394e-01,  1.1137e-01]],\n",
      "\n",
      "        [[ 5.0577e-01, -8.7658e-03, -7.6905e-03,  ...,  8.1075e-02,\n",
      "           3.8099e-01,  2.0468e-01],\n",
      "         [ 3.4292e-01, -1.1005e-01, -1.7447e-01,  ...,  1.2369e-01,\n",
      "           3.1858e-01, -8.0807e-01],\n",
      "         [ 1.7262e-01, -1.6458e-01, -5.7281e-02,  ..., -2.5144e-03,\n",
      "           1.3199e-01, -1.0956e-01],\n",
      "         ...,\n",
      "         [ 2.8035e-01,  1.0365e-05,  1.1614e-02,  ...,  2.7653e-02,\n",
      "           2.4528e-01,  2.4707e-01],\n",
      "         [ 4.8535e-01,  6.2040e-02, -8.7737e-02,  ...,  2.0957e-02,\n",
      "           3.3500e-01,  4.6728e-03],\n",
      "         [ 4.5946e-01,  2.3309e-02,  9.8392e-02,  ...,  3.0747e-01,\n",
      "           4.2855e-01, -5.2635e-01]],\n",
      "\n",
      "        [[ 2.8264e-01,  6.2614e-02, -3.0122e-01,  ...,  3.6284e-02,\n",
      "           5.2877e-01,  3.9253e-01],\n",
      "         [ 3.5799e-01,  2.7763e-02, -3.7952e-01,  ..., -1.2930e-01,\n",
      "           2.7583e-01, -4.2764e-01],\n",
      "         [ 3.1168e-01,  1.5506e-01, -2.6101e-01,  ...,  1.6705e-02,\n",
      "           4.2902e-01,  6.5666e-01],\n",
      "         ...,\n",
      "         [ 7.2228e-01,  1.2236e-02, -1.9969e-01,  ...,  7.4910e-02,\n",
      "           5.4794e-01,  3.5058e-01],\n",
      "         [ 3.4918e-01,  1.9687e-01,  3.3125e-02,  ...,  1.2645e-01,\n",
      "           4.0540e-01,  6.7944e-01],\n",
      "         [ 3.0074e-01,  1.1756e-01, -7.1169e-02,  ...,  2.0717e-01,\n",
      "           2.7700e-01,  5.3902e-01]],\n",
      "\n",
      "        ...,\n",
      "\n",
      "        [[ 3.4520e-01,  3.6315e-01, -2.6891e-01,  ...,  2.4654e-01,\n",
      "           3.1319e-01,  1.0647e+00],\n",
      "         [ 4.3413e-01,  1.3559e-01, -1.8941e-01,  ...,  7.6786e-03,\n",
      "           1.8657e-01,  3.1780e-01],\n",
      "         [ 5.1964e-01, -5.9598e-04,  3.5037e-02,  ...,  4.0584e-02,\n",
      "           1.7787e-01,  2.5568e-01],\n",
      "         ...,\n",
      "         [ 1.8160e-01,  1.5076e-01,  2.6365e-01,  ...,  2.3712e-01,\n",
      "           2.9718e-01, -2.9958e-01],\n",
      "         [ 4.5044e-02, -1.0614e-01,  3.0082e-01,  ...,  9.8657e-02,\n",
      "           2.5295e-01, -3.3456e-01],\n",
      "         [ 3.5677e-01,  1.0396e-01, -1.9373e-01,  ...,  2.5626e-01,\n",
      "           2.3905e-01,  1.4869e+00]],\n",
      "\n",
      "        [[ 2.5165e-01, -2.4734e-01,  6.7912e-02,  ...,  2.4436e-02,\n",
      "           5.2899e-01, -8.5953e-01],\n",
      "         [ 4.3862e-01,  1.5612e-01,  7.5316e-02,  ...,  2.0056e-01,\n",
      "           6.1084e-01, -5.8141e-02],\n",
      "         [ 2.3396e-01, -2.2341e-03,  1.6996e-01,  ...,  2.8867e-02,\n",
      "           2.4304e-01, -8.9585e-01],\n",
      "         ...,\n",
      "         [ 3.3631e-01, -2.3397e-02, -2.9135e-01,  ...,  1.7688e-01,\n",
      "           2.0054e-01, -1.3888e-01],\n",
      "         [ 2.2102e-01,  1.4287e-01,  1.1552e-01,  ...,  1.2457e-01,\n",
      "           4.5795e-01, -1.5806e-01],\n",
      "         [ 3.6830e-01, -2.0371e-01,  1.9707e-01,  ...,  2.3449e-01,\n",
      "           5.0946e-01,  9.5300e-01]],\n",
      "\n",
      "        [[ 6.3312e-01, -1.6505e-01, -2.3543e-01,  ...,  2.1133e-02,\n",
      "           3.6624e-01, -1.8751e-01],\n",
      "         [ 5.8092e-01, -8.3582e-02, -4.2363e-01,  ...,  6.6899e-02,\n",
      "           4.3182e-01, -9.3103e-02],\n",
      "         [ 3.2169e-01,  3.0306e-01, -3.0644e-01,  ...,  2.0401e-01,\n",
      "           3.0087e-01, -3.2913e-02],\n",
      "         ...,\n",
      "         [ 2.3997e-01,  2.4768e-01, -3.6689e-02,  ...,  1.1684e-01,\n",
      "           4.1896e-01, -1.0513e+00],\n",
      "         [ 4.9002e-01,  3.1500e-01, -6.1958e-02,  ...,  1.7938e-01,\n",
      "           3.3073e-01, -4.6845e-01],\n",
      "         [ 4.8163e-01,  1.9150e-01, -1.0426e-01,  ...,  6.4969e-02,\n",
      "           5.0588e-01, -5.0417e-01]]])\n"
     ]
    }
   ],
   "source": [
    "print(outputs[0])"
   ]
  },
  {
   "cell_type": "code",
   "execution_count": 23,
   "metadata": {},
   "outputs": [],
   "source": [
    "torch.cuda.empty_cache()"
   ]
  }
 ],
 "metadata": {
  "interpreter": {
   "hash": "b2beefd3eff767b677397e49c617fe9eb55de17b3640af7353d98162718fbf92"
  },
  "kernelspec": {
   "display_name": "Python 3.9.5 64-bit ('speech-segment-retrieval': venv)",
   "language": "python",
   "name": "python3"
  },
  "language_info": {
   "codemirror_mode": {
    "name": "ipython",
    "version": 3
   },
   "file_extension": ".py",
   "mimetype": "text/x-python",
   "name": "python",
   "nbconvert_exporter": "python",
   "pygments_lexer": "ipython3",
   "version": "3.9.5"
  },
  "orig_nbformat": 4
 },
 "nbformat": 4,
 "nbformat_minor": 2
}
