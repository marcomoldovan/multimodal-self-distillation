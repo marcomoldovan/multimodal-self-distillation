{
 "cells": [
  {
   "cell_type": "code",
   "execution_count": 133,
   "metadata": {},
   "outputs": [],
   "source": [
    "from typing import Tuple\n",
    "import torch\n",
    "from torch.nn import functional as F\n",
    "from torchmetrics import Accuracy, Recall, RetrievalMRR"
   ]
  },
  {
   "cell_type": "code",
   "execution_count": 351,
   "metadata": {},
   "outputs": [],
   "source": [
    "def k_nearest_neighbor(\n",
    "    prediction_features: torch.Tensor, \n",
    "    query_features: torch.Tensor = None, \n",
    "    labels: torch.Tensor = None, \n",
    "    k: int = 20, \n",
    "    temperature: float = 0.1\n",
    "    ) -> Tuple(torch.Tensor, torch.Tensor, torch.Tensor):\n",
    "    \n",
    "    probabilities = []\n",
    "    predictions = []\n",
    "        \n",
    "    num_classes = len(set(list(labels.numpy())))\n",
    "    \n",
    "    if query_features is None:\n",
    "        # means that similarity is computed between prediction features and itself\n",
    "        query_features = prediction_features\n",
    "        zero_diagonal = True\n",
    "        trim_preds = False\n",
    "    else:\n",
    "        zero_diagonal = False\n",
    "        trim_preds = True\n",
    "        \n",
    "    num_chunks = 100\n",
    "    num_test_samples = query_features.size()[0]\n",
    "    samples_per_chunk = num_test_samples // num_chunks\n",
    "        \n",
    "    for idx in range(0, num_test_samples, samples_per_chunk):\n",
    "        \n",
    "        chunk_features = query_features[\n",
    "            idx : min((idx + samples_per_chunk), num_test_samples), :\n",
    "        ]\n",
    "        chunk_labels = labels[\n",
    "            idx : min((idx + samples_per_chunk), num_test_samples)\n",
    "        ]\n",
    "        \n",
    "        batch_size = chunk_labels.shape[0]\n",
    "        \n",
    "        similarity = F.normalize(chunk_features) @ F.normalize(prediction_features).t() \n",
    "        torch.diagonal(similarity, 0).zero_() if zero_diagonal else None\n",
    "        distances, indices = similarity.topk(k, largest=True, sorted=True)\n",
    "        candidates = labels.view(1, -1).expand(batch_size, -1)\n",
    "        retrieved_neighbors = torch.gather(candidates, 1, indices)\n",
    "        \n",
    "        retrieval_one_hot = torch.zeros(batch_size * k, num_classes)\n",
    "        retrieval_one_hot.scatter_(1, retrieved_neighbors.view(-1, 1), 1)\n",
    "        distances_transform = (distances / temperature).exp_()\n",
    "        \n",
    "        probs = torch.sum(\n",
    "            torch.mul(\n",
    "                retrieval_one_hot.view(batch_size, -1, num_classes),\n",
    "                distances_transform.view(batch_size, -1, 1),\n",
    "            ),\n",
    "            1,\n",
    "        )\n",
    "        probs.div_(probs.sum(dim=1, keepdim=True))\n",
    "        probs_sorted, preds = probs.sort(1, True)\n",
    "        \n",
    "        probabilities.append(probs)\n",
    "        predictions.append(preds)\n",
    "    \n",
    "    probabilities = torch.cat(probabilities, dim=0)\n",
    "    predictions = torch.cat(predictions, dim=0)\n",
    "    \n",
    "    return probabilities, predictions, labels, num_classes\n"
   ]
  },
  {
   "cell_type": "code",
   "execution_count": 352,
   "metadata": {},
   "outputs": [
    {
     "name": "stdout",
     "output_type": "stream",
     "text": [
      "tensor([0., 0., 0., 0., 0., 0., 0., 0., 0., 0., 0., 0., 0., 0., 0., 0., 0., 0., 0., 0., 0., 0., 0., 0.,\n",
      "        0.])\n",
      "tensor([0.1659, 0.0651, 0.0567, 0.0547, 0.0532, 0.0505, 0.0497, 0.0491, 0.0475,\n",
      "        0.0420, 0.0411, 0.0387, 0.0382, 0.0369, 0.0368, 0.0368, 0.0347, 0.0345,\n",
      "        0.0344, 0.0335, 0.0000, 0.0000, 0.0000, 0.0000, 0.0000])\n",
      "tensor([24901, 12787,  3562, 37723, 17172, 34831,  7749, 11388, 34461, 18395,\n",
      "        10454, 10677,  3214, 18817, 14909, 21315,  4674, 22027, 28746,  8902,\n",
      "            7,     8,     9,    10,    11])\n"
     ]
    }
   ],
   "source": [
    "queries = torch.rand(40000, 64)\n",
    "preds = torch.randn(40000, 64)\n",
    "\n",
    "num_classes = 10\n",
    "labels = torch.randint(0, num_classes, (preds.size()[0],))\n",
    "probabilities, predictions, labels_generated = k_nearest_neighbor(prediction_features=preds, query_features=queries)"
   ]
  },
  {
   "cell_type": "code",
   "execution_count": 335,
   "metadata": {},
   "outputs": [
    {
     "ename": "ValueError",
     "evalue": "If `preds` have one dimension more than `target`, `preds` should be a float tensor.",
     "output_type": "error",
     "traceback": [
      "\u001b[1;31m---------------------------------------------------------------------------\u001b[0m",
      "\u001b[1;31mValueError\u001b[0m                                Traceback (most recent call last)",
      "Cell \u001b[1;32mIn [335], line 2\u001b[0m\n\u001b[0;32m      1\u001b[0m acc \u001b[39m=\u001b[39m Accuracy(num_classes\u001b[39m=\u001b[39mnum_classes, top_k\u001b[39m=\u001b[39m\u001b[39m5\u001b[39m)\n\u001b[1;32m----> 2\u001b[0m acc(predictions, labels)\n",
      "File \u001b[1;32mc:\\Users\\marco\\.venv\\multimodal-ssl\\lib\\site-packages\\torch\\nn\\modules\\module.py:1130\u001b[0m, in \u001b[0;36mModule._call_impl\u001b[1;34m(self, *input, **kwargs)\u001b[0m\n\u001b[0;32m   1126\u001b[0m \u001b[39m# If we don't have any hooks, we want to skip the rest of the logic in\u001b[39;00m\n\u001b[0;32m   1127\u001b[0m \u001b[39m# this function, and just call forward.\u001b[39;00m\n\u001b[0;32m   1128\u001b[0m \u001b[39mif\u001b[39;00m \u001b[39mnot\u001b[39;00m (\u001b[39mself\u001b[39m\u001b[39m.\u001b[39m_backward_hooks \u001b[39mor\u001b[39;00m \u001b[39mself\u001b[39m\u001b[39m.\u001b[39m_forward_hooks \u001b[39mor\u001b[39;00m \u001b[39mself\u001b[39m\u001b[39m.\u001b[39m_forward_pre_hooks \u001b[39mor\u001b[39;00m _global_backward_hooks\n\u001b[0;32m   1129\u001b[0m         \u001b[39mor\u001b[39;00m _global_forward_hooks \u001b[39mor\u001b[39;00m _global_forward_pre_hooks):\n\u001b[1;32m-> 1130\u001b[0m     \u001b[39mreturn\u001b[39;00m forward_call(\u001b[39m*\u001b[39m\u001b[39minput\u001b[39m, \u001b[39m*\u001b[39m\u001b[39m*\u001b[39mkwargs)\n\u001b[0;32m   1131\u001b[0m \u001b[39m# Do not call functions when jit is used\u001b[39;00m\n\u001b[0;32m   1132\u001b[0m full_backward_hooks, non_full_backward_hooks \u001b[39m=\u001b[39m [], []\n",
      "File \u001b[1;32mc:\\Users\\marco\\.venv\\multimodal-ssl\\lib\\site-packages\\torchmetrics\\metric.py:245\u001b[0m, in \u001b[0;36mMetric.forward\u001b[1;34m(self, *args, **kwargs)\u001b[0m\n\u001b[0;32m    243\u001b[0m     \u001b[39mself\u001b[39m\u001b[39m.\u001b[39m_forward_cache \u001b[39m=\u001b[39m \u001b[39mself\u001b[39m\u001b[39m.\u001b[39m_forward_full_state_update(\u001b[39m*\u001b[39margs, \u001b[39m*\u001b[39m\u001b[39m*\u001b[39mkwargs)\n\u001b[0;32m    244\u001b[0m \u001b[39melse\u001b[39;00m:\n\u001b[1;32m--> 245\u001b[0m     \u001b[39mself\u001b[39m\u001b[39m.\u001b[39m_forward_cache \u001b[39m=\u001b[39m \u001b[39mself\u001b[39m\u001b[39m.\u001b[39m_forward_reduce_state_update(\u001b[39m*\u001b[39margs, \u001b[39m*\u001b[39m\u001b[39m*\u001b[39mkwargs)\n\u001b[0;32m    247\u001b[0m \u001b[39mreturn\u001b[39;00m \u001b[39mself\u001b[39m\u001b[39m.\u001b[39m_forward_cache\n",
      "File \u001b[1;32mc:\\Users\\marco\\.venv\\multimodal-ssl\\lib\\site-packages\\torchmetrics\\metric.py:309\u001b[0m, in \u001b[0;36mMetric._forward_reduce_state_update\u001b[1;34m(self, *args, **kwargs)\u001b[0m\n\u001b[0;32m    306\u001b[0m \u001b[39mself\u001b[39m\u001b[39m.\u001b[39m_enable_grad \u001b[39m=\u001b[39m \u001b[39mTrue\u001b[39;00m  \u001b[39m# allow grads for batch computation\u001b[39;00m\n\u001b[0;32m    308\u001b[0m \u001b[39m# calculate batch state and compute batch value\u001b[39;00m\n\u001b[1;32m--> 309\u001b[0m \u001b[39mself\u001b[39m\u001b[39m.\u001b[39mupdate(\u001b[39m*\u001b[39margs, \u001b[39m*\u001b[39m\u001b[39m*\u001b[39mkwargs)\n\u001b[0;32m    310\u001b[0m batch_val \u001b[39m=\u001b[39m \u001b[39mself\u001b[39m\u001b[39m.\u001b[39mcompute()\n\u001b[0;32m    312\u001b[0m \u001b[39m# reduce batch and global state\u001b[39;00m\n",
      "File \u001b[1;32mc:\\Users\\marco\\.venv\\multimodal-ssl\\lib\\site-packages\\torchmetrics\\metric.py:391\u001b[0m, in \u001b[0;36mMetric._wrap_update.<locals>.wrapped_func\u001b[1;34m(*args, **kwargs)\u001b[0m\n\u001b[0;32m    389\u001b[0m \u001b[39mwith\u001b[39;00m torch\u001b[39m.\u001b[39mset_grad_enabled(\u001b[39mself\u001b[39m\u001b[39m.\u001b[39m_enable_grad):\n\u001b[0;32m    390\u001b[0m     \u001b[39mtry\u001b[39;00m:\n\u001b[1;32m--> 391\u001b[0m         update(\u001b[39m*\u001b[39margs, \u001b[39m*\u001b[39m\u001b[39m*\u001b[39mkwargs)\n\u001b[0;32m    392\u001b[0m     \u001b[39mexcept\u001b[39;00m \u001b[39mRuntimeError\u001b[39;00m \u001b[39mas\u001b[39;00m err:\n\u001b[0;32m    393\u001b[0m         \u001b[39mif\u001b[39;00m \u001b[39m\"\u001b[39m\u001b[39mExpected all tensors to be on\u001b[39m\u001b[39m\"\u001b[39m \u001b[39min\u001b[39;00m \u001b[39mstr\u001b[39m(err):\n",
      "File \u001b[1;32mc:\\Users\\marco\\.venv\\multimodal-ssl\\lib\\site-packages\\torchmetrics\\classification\\accuracy.py:219\u001b[0m, in \u001b[0;36mAccuracy.update\u001b[1;34m(self, preds, target)\u001b[0m\n\u001b[0;32m    210\u001b[0m \u001b[39m\"\"\"Update state with predictions and targets. See\u001b[39;00m\n\u001b[0;32m    211\u001b[0m \u001b[39m:ref:`pages/classification:input types` for more information on input\u001b[39;00m\n\u001b[0;32m    212\u001b[0m \u001b[39mtypes.\u001b[39;00m\n\u001b[1;32m   (...)\u001b[0m\n\u001b[0;32m    216\u001b[0m \u001b[39m    target: Ground truth labels\u001b[39;00m\n\u001b[0;32m    217\u001b[0m \u001b[39m\"\"\"\u001b[39;00m\n\u001b[0;32m    218\u001b[0m \u001b[39m\"\"\" returns the mode of the data (binary, multi label, multi class, multi-dim multi class) \"\"\"\u001b[39;00m\n\u001b[1;32m--> 219\u001b[0m mode \u001b[39m=\u001b[39m _mode(preds, target, \u001b[39mself\u001b[39;49m\u001b[39m.\u001b[39;49mthreshold, \u001b[39mself\u001b[39;49m\u001b[39m.\u001b[39;49mtop_k, \u001b[39mself\u001b[39;49m\u001b[39m.\u001b[39;49mnum_classes, \u001b[39mself\u001b[39;49m\u001b[39m.\u001b[39;49mmulticlass, \u001b[39mself\u001b[39;49m\u001b[39m.\u001b[39;49mignore_index)\n\u001b[0;32m    221\u001b[0m \u001b[39mif\u001b[39;00m \u001b[39mnot\u001b[39;00m \u001b[39mself\u001b[39m\u001b[39m.\u001b[39mmode:\n\u001b[0;32m    222\u001b[0m     \u001b[39mself\u001b[39m\u001b[39m.\u001b[39mmode \u001b[39m=\u001b[39m mode\n",
      "File \u001b[1;32mc:\\Users\\marco\\.venv\\multimodal-ssl\\lib\\site-packages\\torchmetrics\\functional\\classification\\accuracy.py:59\u001b[0m, in \u001b[0;36m_mode\u001b[1;34m(preds, target, threshold, top_k, num_classes, multiclass, ignore_index)\u001b[0m\n\u001b[0;32m     29\u001b[0m \u001b[39mdef\u001b[39;00m \u001b[39m_mode\u001b[39m(\n\u001b[0;32m     30\u001b[0m     preds: Tensor,\n\u001b[0;32m     31\u001b[0m     target: Tensor,\n\u001b[1;32m   (...)\u001b[0m\n\u001b[0;32m     36\u001b[0m     ignore_index: Optional[\u001b[39mint\u001b[39m] \u001b[39m=\u001b[39m \u001b[39mNone\u001b[39;00m,\n\u001b[0;32m     37\u001b[0m ) \u001b[39m-\u001b[39m\u001b[39m>\u001b[39m DataType:\n\u001b[0;32m     38\u001b[0m     \u001b[39m\"\"\"Finds the mode of the input tensors.\u001b[39;00m\n\u001b[0;32m     39\u001b[0m \n\u001b[0;32m     40\u001b[0m \u001b[39m    Args:\u001b[39;00m\n\u001b[1;32m   (...)\u001b[0m\n\u001b[0;32m     56\u001b[0m \u001b[39m        <DataType.MULTICLASS: 'multi-class'>\u001b[39;00m\n\u001b[0;32m     57\u001b[0m \u001b[39m    \"\"\"\u001b[39;00m\n\u001b[1;32m---> 59\u001b[0m     mode \u001b[39m=\u001b[39m _check_classification_inputs(\n\u001b[0;32m     60\u001b[0m         preds,\n\u001b[0;32m     61\u001b[0m         target,\n\u001b[0;32m     62\u001b[0m         threshold\u001b[39m=\u001b[39;49mthreshold,\n\u001b[0;32m     63\u001b[0m         top_k\u001b[39m=\u001b[39;49mtop_k,\n\u001b[0;32m     64\u001b[0m         num_classes\u001b[39m=\u001b[39;49mnum_classes,\n\u001b[0;32m     65\u001b[0m         multiclass\u001b[39m=\u001b[39;49mmulticlass,\n\u001b[0;32m     66\u001b[0m         ignore_index\u001b[39m=\u001b[39;49mignore_index,\n\u001b[0;32m     67\u001b[0m     )\n\u001b[0;32m     68\u001b[0m     \u001b[39mreturn\u001b[39;00m mode\n",
      "File \u001b[1;32mc:\\Users\\marco\\.venv\\multimodal-ssl\\lib\\site-packages\\torchmetrics\\utilities\\checks.py:271\u001b[0m, in \u001b[0;36m_check_classification_inputs\u001b[1;34m(preds, target, threshold, num_classes, multiclass, top_k, ignore_index)\u001b[0m\n\u001b[0;32m    268\u001b[0m _basic_input_validation(preds, target, threshold, multiclass, ignore_index)\n\u001b[0;32m    270\u001b[0m \u001b[39m# Check that shape/types fall into one of the cases\u001b[39;00m\n\u001b[1;32m--> 271\u001b[0m case, implied_classes \u001b[39m=\u001b[39m _check_shape_and_type_consistency(preds, target)\n\u001b[0;32m    273\u001b[0m \u001b[39m# Check consistency with the `C` dimension in case of multi-class data\u001b[39;00m\n\u001b[0;32m    274\u001b[0m \u001b[39mif\u001b[39;00m preds\u001b[39m.\u001b[39mshape \u001b[39m!=\u001b[39m target\u001b[39m.\u001b[39mshape:\n",
      "File \u001b[1;32mc:\\Users\\marco\\.venv\\multimodal-ssl\\lib\\site-packages\\torchmetrics\\utilities\\checks.py:103\u001b[0m, in \u001b[0;36m_check_shape_and_type_consistency\u001b[1;34m(preds, target)\u001b[0m\n\u001b[0;32m    101\u001b[0m \u001b[39melif\u001b[39;00m preds\u001b[39m.\u001b[39mndim \u001b[39m==\u001b[39m target\u001b[39m.\u001b[39mndim \u001b[39m+\u001b[39m \u001b[39m1\u001b[39m:\n\u001b[0;32m    102\u001b[0m     \u001b[39mif\u001b[39;00m \u001b[39mnot\u001b[39;00m preds_float:\n\u001b[1;32m--> 103\u001b[0m         \u001b[39mraise\u001b[39;00m \u001b[39mValueError\u001b[39;00m(\u001b[39m\"\u001b[39m\u001b[39mIf `preds` have one dimension more than `target`, `preds` should be a float tensor.\u001b[39m\u001b[39m\"\u001b[39m)\n\u001b[0;32m    104\u001b[0m     \u001b[39mif\u001b[39;00m preds\u001b[39m.\u001b[39mshape[\u001b[39m2\u001b[39m:] \u001b[39m!=\u001b[39m target\u001b[39m.\u001b[39mshape[\u001b[39m1\u001b[39m:]:\n\u001b[0;32m    105\u001b[0m         \u001b[39mraise\u001b[39;00m \u001b[39mValueError\u001b[39;00m(\n\u001b[0;32m    106\u001b[0m             \u001b[39m\"\u001b[39m\u001b[39mIf `preds` have one dimension more than `target`, the shape of `preds` should be\u001b[39m\u001b[39m\"\u001b[39m\n\u001b[0;32m    107\u001b[0m             \u001b[39m\"\u001b[39m\u001b[39m (N, C, ...), and the shape of `target` should be (N, ...).\u001b[39m\u001b[39m\"\u001b[39m\n\u001b[0;32m    108\u001b[0m         )\n",
      "\u001b[1;31mValueError\u001b[0m: If `preds` have one dimension more than `target`, `preds` should be a float tensor."
     ]
    }
   ],
   "source": [
    "acc = Accuracy(num_classes=num_classes, top_k=5)\n",
    "acc(predictions, labels)"
   ]
  },
  {
   "cell_type": "code",
   "execution_count": 357,
   "metadata": {},
   "outputs": [],
   "source": [
    "predictions_generated = F.softmax(torch.rand(40000, 40000), dim=1)\n",
    "labels_generated = torch.tensor(list(range(40000)))"
   ]
  },
  {
   "cell_type": "code",
   "execution_count": 358,
   "metadata": {},
   "outputs": [
    {
     "name": "stdout",
     "output_type": "stream",
     "text": [
      "Size of predictions: 6.4 GB\n"
     ]
    }
   ],
   "source": [
    "# size of tensor in GB\n",
    "print(f\"Size of predictions: {predictions_generated.size()[0] * predictions_generated.size()[1] * 4 / 1e9} GB\")"
   ]
  },
  {
   "cell_type": "code",
   "execution_count": 360,
   "metadata": {},
   "outputs": [
    {
     "data": {
      "text/plain": [
       "tensor(0.0002)"
      ]
     },
     "execution_count": 360,
     "metadata": {},
     "output_type": "execute_result"
    }
   ],
   "source": [
    "rec = Recall(num_classes=len(labels_generated), top_k=5)\n",
    "rec(predictions_generated, labels_generated)"
   ]
  },
  {
   "cell_type": "code",
   "execution_count": null,
   "metadata": {},
   "outputs": [],
   "source": []
  }
 ],
 "metadata": {
  "kernelspec": {
   "display_name": "Python 3.9.5 ('multimodal-ssl')",
   "language": "python",
   "name": "python3"
  },
  "language_info": {
   "codemirror_mode": {
    "name": "ipython",
    "version": 3
   },
   "file_extension": ".py",
   "mimetype": "text/x-python",
   "name": "python",
   "nbconvert_exporter": "python",
   "pygments_lexer": "ipython3",
   "version": "3.9.5"
  },
  "orig_nbformat": 4,
  "vscode": {
   "interpreter": {
    "hash": "6ac8a2bc69d4b2bdc42aaccd63f192d886c476dacd93adfa548f17911c905576"
   }
  }
 },
 "nbformat": 4,
 "nbformat_minor": 2
}
