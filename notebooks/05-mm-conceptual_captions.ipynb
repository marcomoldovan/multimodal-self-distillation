{
 "cells": [
  {
   "cell_type": "code",
   "execution_count": 1,
   "metadata": {},
   "outputs": [
    {
     "name": "stderr",
     "output_type": "stream",
     "text": [
      "c:\\Users\\marco\\.venv\\multimodal-ssl\\lib\\site-packages\\tqdm\\auto.py:22: TqdmWarning: IProgress not found. Please update jupyter and ipywidgets. See https://ipywidgets.readthedocs.io/en/stable/user_install.html\n",
      "  from .autonotebook import tqdm as notebook_tqdm\n"
     ]
    }
   ],
   "source": [
    "from concurrent.futures import ThreadPoolExecutor\n",
    "from functools import partial\n",
    "import io\n",
    "import os\n",
    "import urllib\n",
    "\n",
    "import PIL.Image\n",
    "\n",
    "from datasets import load_dataset\n",
    "from datasets.utils.file_utils import get_datasets_user_agent\n",
    "\n",
    "\n",
    "USER_AGENT = get_datasets_user_agent()\n",
    "\n",
    "num_threads = os.cpu_count() * 5\n",
    "\n",
    "\n",
    "def fetch_single_image(image_url, timeout=None, retries=0):\n",
    "    for _ in range(retries + 1):\n",
    "        try:\n",
    "            request = urllib.request.Request(\n",
    "                image_url,\n",
    "                data=None,\n",
    "                headers={\"user-agent\": USER_AGENT},\n",
    "            )\n",
    "            with urllib.request.urlopen(request, timeout=timeout) as req:\n",
    "                image = PIL.Image.open(io.BytesIO(req.read()))\n",
    "            break\n",
    "        except Exception:\n",
    "            image = None\n",
    "    return image\n",
    "\n",
    "\n",
    "def fetch_images(batch, num_threads, timeout=None, retries=0):\n",
    "    fetch_single_image_with_args = partial(fetch_single_image, timeout=timeout, retries=retries)\n",
    "    with ThreadPoolExecutor(max_workers=num_threads) as executor:\n",
    "        batch[\"image\"] = list(executor.map(fetch_single_image_with_args, batch[\"image_url\"]))\n",
    "    return batch\n"
   ]
  },
  {
   "cell_type": "code",
   "execution_count": null,
   "metadata": {},
   "outputs": [],
   "source": [
    "load_dataset('conceptual_captions', cache_dir='E:/Datasets/conceptual').map(fetch_images, batched=True, batch_size=100, fn_kwargs={\"num_threads\": num_threads})"
   ]
  },
  {
   "cell_type": "code",
   "execution_count": 2,
   "metadata": {},
   "outputs": [
    {
     "name": "stderr",
     "output_type": "stream",
     "text": [
      "c:\\Users\\marco\\.venv\\multimodal-ssl\\lib\\site-packages\\huggingface_hub\\utils\\_deprecation.py:97: FutureWarning: Deprecated argument(s) used in 'dataset_info': token. Will not be supported from version '0.12'.\n",
      "  warnings.warn(message, FutureWarning)\n",
      "No config specified, defaulting to: conceptual_captions/unlabeled\n",
      "Found cached dataset conceptual_captions (E:/Datasets/conceptual/conceptual_captions/unlabeled/1.0.0/05266784888422e36944016874c44639bccb39069c2227435168ad8b02d600d8)\n",
      "100%|██████████| 16/16 [45:58<00:00, 172.40s/ba]\n"
     ]
    }
   ],
   "source": [
    "load_dataset(\n",
    "    'conceptual_captions', split='validation', cache_dir='E:/Datasets/conceptual'\n",
    "    ).map(\n",
    "        fetch_images, batched=True, load_from_cache_file='E:/Datasets/conceptual', batch_size=1024, fn_kwargs={\"num_threads\": num_threads}\n",
    "        ).save_to_disk(\n",
    "            'E:/Datasets/conceptual_captions_validation'\n",
    "            )"
   ]
  },
  {
   "cell_type": "code",
   "execution_count": 109,
   "metadata": {},
   "outputs": [
    {
     "data": {
      "text/plain": [
       "15840"
      ]
     },
     "execution_count": 109,
     "metadata": {},
     "output_type": "execute_result"
    }
   ],
   "source": [
    "from datasets import load_from_disk\n",
    "cc_val = load_from_disk('E:/Datasets/conceptual_captions_validation/')\n",
    "len(cc_val)"
   ]
  },
  {
   "cell_type": "code",
   "execution_count": 110,
   "metadata": {},
   "outputs": [
    {
     "name": "stderr",
     "output_type": "stream",
     "text": [
      "100%|██████████| 16/16 [00:39<00:00,  2.49s/ba]\n"
     ]
    },
    {
     "data": {
      "text/plain": [
       "12913"
      ]
     },
     "execution_count": 110,
     "metadata": {},
     "output_type": "execute_result"
    }
   ],
   "source": [
    "cc_val_filterd = cc_val.filter(lambda x: x['image'] is not None and x['image'].mode == 'RGB')\n",
    "len(cc_val_filterd)"
   ]
  },
  {
   "cell_type": "code",
   "execution_count": 29,
   "metadata": {},
   "outputs": [],
   "source": [
    "import requests\n",
    "from PIL import Image\n",
    "from torchvision import transforms"
   ]
  },
  {
   "cell_type": "code",
   "execution_count": 30,
   "metadata": {},
   "outputs": [
    {
     "name": "stdout",
     "output_type": "stream",
     "text": [
      "<class 'torch.Tensor'>\n"
     ]
    }
   ],
   "source": [
    "request = urllib.request.Request(\n",
    "    cc_val[0]['image_url'],\n",
    "    data=None,\n",
    "    headers={\"user-agent\": USER_AGENT},\n",
    ")\n",
    "with urllib.request.urlopen(request, timeout=None) as req:\n",
    "    image = PIL.Image.open(io.BytesIO(req.read()))\n",
    "    image = transforms.ToTensor()(image)\n",
    "    print(type(image))"
   ]
  },
  {
   "cell_type": "code",
   "execution_count": 32,
   "metadata": {},
   "outputs": [
    {
     "name": "stdout",
     "output_type": "stream",
     "text": [
      "<class 'torch.Tensor'>\n"
     ]
    }
   ],
   "source": [
    "img = Image.open(requests.get(cc_val[0]['image_url'], stream=True).raw)\n",
    "img = transforms.ToTensor()(img)\n",
    "print(type(img))"
   ]
  },
  {
   "cell_type": "code",
   "execution_count": 34,
   "metadata": {},
   "outputs": [
    {
     "name": "stdout",
     "output_type": "stream",
     "text": [
      "<class 'PIL.JpegImagePlugin.JpegImageFile'>\n",
      "<class 'torch.Tensor'>\n"
     ]
    }
   ],
   "source": [
    "from PIL import Image, JpegImagePlugin\n",
    "print(type(cc_val[0]['image']))\n",
    "image_loaded = transforms.ToTensor()(cc_val[0]['image'])\n",
    "print(type(image_loaded))"
   ]
  },
  {
   "cell_type": "code",
   "execution_count": 132,
   "metadata": {},
   "outputs": [],
   "source": [
    "import torch\n",
    "from transformers import PerceiverTokenizer\n",
    "\n",
    "tokenizer = PerceiverTokenizer()\n",
    "\n",
    "def collate_fn(batch):\n",
    "    return dict(\n",
    "        text=tokenizer([item['caption'] for item in batch], padding=True, return_tensors='pt')['input_ids'],\n",
    "        image=torch.cat([item['image'] for item in batch]),\n",
    "    )"
   ]
  },
  {
   "cell_type": "code",
   "execution_count": 130,
   "metadata": {},
   "outputs": [],
   "source": [
    "from torch.utils.data import Dataset\n",
    "from torchvision import transforms\n",
    "from transformers import PerceiverFeatureExtractor, PerceiverTokenizer\n",
    "\n",
    "class ConceptualCaptionsDataset(Dataset):\n",
    "    def __init__(self, hf_dataset) -> None:\n",
    "        super().__init__()\n",
    "        self.dataset = hf_dataset\n",
    "        self.feature_extractor = PerceiverFeatureExtractor()\n",
    "        self.tokenizer = PerceiverTokenizer()\n",
    "    def __len__(self):\n",
    "        return len(self.dataset)\n",
    "    \n",
    "    def __getitem__(self, index):\n",
    "        x = self.dataset[index]\n",
    "        x['image'] = self.feature_extractor(x['image'], return_tensors='pt')['pixel_values']\n",
    "        return x"
   ]
  },
  {
   "cell_type": "code",
   "execution_count": 134,
   "metadata": {},
   "outputs": [
    {
     "name": "stdout",
     "output_type": "stream",
     "text": [
      "torch.Size([32, 174])\n",
      "torch.Size([32, 3, 224, 224])\n"
     ]
    }
   ],
   "source": [
    "from torch.utils.data import DataLoader\n",
    "\n",
    "ds = ConceptualCaptionsDataset(cc_val_filterd)\n",
    "dl = DataLoader(ds, batch_size=32, num_workers=0, pin_memory=True, collate_fn=collate_fn)\n",
    "\n",
    "batch = next(iter(dl))\n",
    "print(batch['text'].size())\n",
    "print(batch['image'].size())"
   ]
  }
 ],
 "metadata": {
  "kernelspec": {
   "display_name": "Python 3.9.5 ('multimodal-ssl')",
   "language": "python",
   "name": "python3"
  },
  "language_info": {
   "codemirror_mode": {
    "name": "ipython",
    "version": 3
   },
   "file_extension": ".py",
   "mimetype": "text/x-python",
   "name": "python",
   "nbconvert_exporter": "python",
   "pygments_lexer": "ipython3",
   "version": "3.9.5"
  },
  "orig_nbformat": 4,
  "vscode": {
   "interpreter": {
    "hash": "6ac8a2bc69d4b2bdc42aaccd63f192d886c476dacd93adfa548f17911c905576"
   }
  }
 },
 "nbformat": 4,
 "nbformat_minor": 2
}
